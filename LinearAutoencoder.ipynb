{
 "cells": [
  {
   "cell_type": "code",
   "execution_count": 6,
   "metadata": {},
   "outputs": [],
   "source": [
    "import numpy as np\n",
    "import torch\n",
    "import torchvision as torchvision\n",
    "import multiprocessing\n",
    "\n",
    "# seed_all(42)"
   ]
  },
  {
   "cell_type": "code",
   "execution_count": 21,
   "metadata": {},
   "outputs": [
    {
     "name": "stdout",
     "output_type": "stream",
     "text": [
      "48000 12000\n",
      "48000\n"
     ]
    }
   ],
   "source": [
    "num_workers = multiprocessing.cpu_count()\n",
    "\n",
    "train_dataset = torchvision.datasets.MNIST(root='./data', train=True, download=True, transform=torchvision.transforms.ToTensor())\n",
    "test_dataset = torchvision.datasets.MNIST(root='./data', train=False, download=True, transform=torchvision.transforms.ToTensor())\n",
    "\n",
    "train_len = int(len(train_dataset) * 0.8)\n",
    "val_len = len(train_dataset) - train_len\n",
    "print(train_len, val_len)\n",
    "batch_size = 1024\n",
    "train_subset, val_subset = torch.utils.data.random_split(train_dataset, [train_len, val_len])\n",
    "\n",
    "print(len(train_subset))\n",
    "train_loader = torch.utils.data.DataLoader(dataset=train_subset, shuffle=True, batch_size=batch_size, num_workers=num_workers)\n",
    "val_loader = torch.utils.data.DataLoader(dataset=val_subset, shuffle=False, batch_size=batch_size, num_workers=num_workers)"
   ]
  },
  {
   "cell_type": "code",
   "execution_count": 10,
   "metadata": {},
   "outputs": [],
   "source": [
    "from PIL import Image\n",
    "\n",
    "target_digits = {\n",
    "        0: Image.open('./target/0.png'),\n",
    "        1: Image.open('./target/1.png'),\n",
    "        2: Image.open('./target/2.png'),\n",
    "        3: Image.open('./target/3.png'),\n",
    "        4: Image.open('./target/4.png'),\n",
    "        5: Image.open('./target/5.png'),\n",
    "        6: Image.open('./target/6.png'),\n",
    "        7: Image.open('./target/7.png'),\n",
    "        8: Image.open('./target/8.png'),\n",
    "        9: Image.open('./target/9.png')\n",
    "    }\n",
    "\n",
    "sourceToMNIST = torchvision.transforms.Compose([\n",
    "    torchvision.transforms.Grayscale(),\n",
    "    torchvision.transforms.Resize((28,28)),\n",
    "    torchvision.transforms.ToTensor(),\n",
    "    torchvision.transforms.functional.invert,\n",
    "    # torchvision.transforms.ToPILImage()\n",
    "])\n",
    "target_digits = {key: sourceToMNIST(target_digits[key])  for key in target_digits}\n",
    "\n",
    "def labels_to_perfect_images(labels: list[int]):\n",
    "    perfect_images =  [target_digits[label] for label in labels]\n",
    "\n",
    "    return perfect_images"
   ]
  },
  {
   "cell_type": "code",
   "execution_count": 11,
   "metadata": {},
   "outputs": [],
   "source": [
    "\n",
    "import torch.nn as nn\n",
    "\n",
    "class Autoencoder(nn.Module):\n",
    "    \n",
    "    def __init__(self, encoding_dim):\n",
    "        super(Autoencoder, self).__init__()\n",
    "\n",
    "        self.encoder = nn.Sequential(\n",
    "            nn.Linear(28*28, encoding_dim*2),\n",
    "            nn.ReLU(),\n",
    "            nn.BatchNorm1d(encoding_dim*2),\n",
    "            nn.Linear(encoding_dim*2, encoding_dim), \n",
    "        )\n",
    "\n",
    "        self.decoder = nn.Sequential(\n",
    "            nn.Linear(encoding_dim, 256),\n",
    "            nn.ReLU(), \n",
    "            nn.BatchNorm1d(256),\n",
    "            nn.Linear(256, 28*28),\n",
    "            nn.Sigmoid() \n",
    "        )\n",
    "    \n",
    "        self.auto_encoder = nn.Sequential(\n",
    "            nn.Flatten(),\n",
    "            self.encoder,\n",
    "            self.decoder\n",
    "        ) \n",
    " \n",
    "\n",
    "    def forward(self, x):\n",
    "        encoded = self.auto_encoder(x)\n",
    "        return encoded.reshape((x.shape[0], 1, 28, 28))\n",
    "    \n",
    "\n",
    "encoding_dim = 64\n",
    "model = Autoencoder(encoding_dim)"
   ]
  },
  {
   "cell_type": "code",
   "execution_count": 12,
   "metadata": {},
   "outputs": [],
   "source": [
    "criterion = nn.MSELoss()\n",
    "optimizer = torch.optim.Adam(model.parameters(), lr=5e-2)"
   ]
  },
  {
   "cell_type": "code",
   "execution_count": 23,
   "metadata": {},
   "outputs": [
    {
     "name": "stderr",
     "output_type": "stream",
     "text": [
      "Training: 100%|██████████| 47/47 [00:06<00:00,  7.20it/s]\n",
      "Validating: 100%|██████████| 12/12 [00:05<00:00,  2.02it/s]\n"
     ]
    },
    {
     "name": "stdout",
     "output_type": "stream",
     "text": [
      "Epoch: 1 \tTraining Loss: 41.367278\tValid Loss: 12.796946\n"
     ]
    },
    {
     "name": "stderr",
     "output_type": "stream",
     "text": [
      "Training: 100%|██████████| 47/47 [00:06<00:00,  7.29it/s]\n",
      "Validating: 100%|██████████| 12/12 [00:05<00:00,  2.20it/s]\n"
     ]
    },
    {
     "name": "stdout",
     "output_type": "stream",
     "text": [
      "Epoch: 2 \tTraining Loss: 9.731967\tValid Loss: 7.735995\n"
     ]
    },
    {
     "name": "stderr",
     "output_type": "stream",
     "text": [
      "Training: 100%|██████████| 47/47 [00:06<00:00,  7.30it/s]\n",
      "Validating: 100%|██████████| 12/12 [00:06<00:00,  1.97it/s]\n"
     ]
    },
    {
     "name": "stdout",
     "output_type": "stream",
     "text": [
      "Epoch: 3 \tTraining Loss: 6.776532\tValid Loss: 5.996860\n"
     ]
    },
    {
     "name": "stderr",
     "output_type": "stream",
     "text": [
      "Training: 100%|██████████| 47/47 [00:06<00:00,  7.41it/s]\n",
      "Validating: 100%|██████████| 12/12 [00:06<00:00,  1.95it/s]\n"
     ]
    },
    {
     "name": "stdout",
     "output_type": "stream",
     "text": [
      "Epoch: 4 \tTraining Loss: 5.457111\tValid Loss: 5.292846\n"
     ]
    },
    {
     "name": "stderr",
     "output_type": "stream",
     "text": [
      "Training: 100%|██████████| 47/47 [00:06<00:00,  7.39it/s]\n",
      "Validating: 100%|██████████| 12/12 [00:06<00:00,  1.92it/s]\n"
     ]
    },
    {
     "name": "stdout",
     "output_type": "stream",
     "text": [
      "Epoch: 5 \tTraining Loss: 4.534244\tValid Loss: 4.488575\n"
     ]
    },
    {
     "name": "stderr",
     "output_type": "stream",
     "text": [
      "Training: 100%|██████████| 47/47 [00:06<00:00,  7.21it/s]\n",
      "Validating: 100%|██████████| 12/12 [00:06<00:00,  1.96it/s]\n"
     ]
    },
    {
     "name": "stdout",
     "output_type": "stream",
     "text": [
      "Epoch: 6 \tTraining Loss: 3.718775\tValid Loss: 3.861549\n"
     ]
    },
    {
     "name": "stderr",
     "output_type": "stream",
     "text": [
      "Training: 100%|██████████| 47/47 [00:06<00:00,  7.30it/s]\n",
      "Validating: 100%|██████████| 12/12 [00:05<00:00,  2.12it/s]\n"
     ]
    },
    {
     "name": "stdout",
     "output_type": "stream",
     "text": [
      "Epoch: 7 \tTraining Loss: 3.133602\tValid Loss: 3.393440\n"
     ]
    },
    {
     "name": "stderr",
     "output_type": "stream",
     "text": [
      "Training: 100%|██████████| 47/47 [00:06<00:00,  7.38it/s]\n",
      "Validating: 100%|██████████| 12/12 [00:06<00:00,  1.95it/s]\n"
     ]
    },
    {
     "name": "stdout",
     "output_type": "stream",
     "text": [
      "Epoch: 8 \tTraining Loss: 2.499015\tValid Loss: 3.071866\n"
     ]
    },
    {
     "name": "stderr",
     "output_type": "stream",
     "text": [
      "Training: 100%|██████████| 47/47 [00:06<00:00,  7.40it/s]\n",
      "Validating: 100%|██████████| 12/12 [00:06<00:00,  1.96it/s]\n"
     ]
    },
    {
     "name": "stdout",
     "output_type": "stream",
     "text": [
      "Epoch: 9 \tTraining Loss: 2.194275\tValid Loss: 2.661909\n"
     ]
    },
    {
     "name": "stderr",
     "output_type": "stream",
     "text": [
      "Training: 100%|██████████| 47/47 [00:06<00:00,  7.25it/s]\n",
      "Validating: 100%|██████████| 12/12 [00:05<00:00,  2.26it/s]\n"
     ]
    },
    {
     "name": "stdout",
     "output_type": "stream",
     "text": [
      "Epoch: 10 \tTraining Loss: 1.855537\tValid Loss: 2.512886\n"
     ]
    },
    {
     "name": "stderr",
     "output_type": "stream",
     "text": [
      "Training: 100%|██████████| 47/47 [00:06<00:00,  7.33it/s]\n",
      "Validating: 100%|██████████| 12/12 [00:05<00:00,  2.01it/s]\n"
     ]
    },
    {
     "name": "stdout",
     "output_type": "stream",
     "text": [
      "Epoch: 11 \tTraining Loss: 1.674360\tValid Loss: 2.535558\n"
     ]
    },
    {
     "name": "stderr",
     "output_type": "stream",
     "text": [
      "Training: 100%|██████████| 47/47 [00:06<00:00,  7.22it/s]\n",
      "Validating: 100%|██████████| 12/12 [00:05<00:00,  2.15it/s]\n"
     ]
    },
    {
     "name": "stdout",
     "output_type": "stream",
     "text": [
      "Epoch: 12 \tTraining Loss: 1.454961\tValid Loss: 2.466091\n"
     ]
    },
    {
     "name": "stderr",
     "output_type": "stream",
     "text": [
      "Training: 100%|██████████| 47/47 [00:06<00:00,  7.22it/s]\n",
      "Validating: 100%|██████████| 12/12 [00:05<00:00,  2.05it/s]\n"
     ]
    },
    {
     "name": "stdout",
     "output_type": "stream",
     "text": [
      "Epoch: 13 \tTraining Loss: 1.344770\tValid Loss: 2.418835\n"
     ]
    },
    {
     "name": "stderr",
     "output_type": "stream",
     "text": [
      "Training: 100%|██████████| 47/47 [00:06<00:00,  7.29it/s]\n",
      "Validating: 100%|██████████| 12/12 [00:05<00:00,  2.13it/s]\n"
     ]
    },
    {
     "name": "stdout",
     "output_type": "stream",
     "text": [
      "Epoch: 14 \tTraining Loss: 1.189817\tValid Loss: 2.274889\n"
     ]
    },
    {
     "name": "stderr",
     "output_type": "stream",
     "text": [
      "Training: 100%|██████████| 47/47 [00:06<00:00,  7.28it/s]\n",
      "Validating: 100%|██████████| 12/12 [00:06<00:00,  1.95it/s]\n"
     ]
    },
    {
     "name": "stdout",
     "output_type": "stream",
     "text": [
      "Epoch: 15 \tTraining Loss: 1.096979\tValid Loss: 2.369079\n"
     ]
    },
    {
     "name": "stderr",
     "output_type": "stream",
     "text": [
      "Training: 100%|██████████| 47/47 [00:06<00:00,  7.34it/s]\n",
      "Validating: 100%|██████████| 12/12 [00:05<00:00,  2.00it/s]\n"
     ]
    },
    {
     "name": "stdout",
     "output_type": "stream",
     "text": [
      "Epoch: 16 \tTraining Loss: 1.072974\tValid Loss: 2.338596\n"
     ]
    },
    {
     "name": "stderr",
     "output_type": "stream",
     "text": [
      "Training: 100%|██████████| 47/47 [00:06<00:00,  7.43it/s]\n",
      "Validating: 100%|██████████| 12/12 [00:05<00:00,  2.01it/s]\n"
     ]
    },
    {
     "name": "stdout",
     "output_type": "stream",
     "text": [
      "Epoch: 17 \tTraining Loss: 1.019341\tValid Loss: 2.203417\n"
     ]
    },
    {
     "name": "stderr",
     "output_type": "stream",
     "text": [
      "Training: 100%|██████████| 47/47 [00:06<00:00,  7.27it/s]\n",
      "Validating: 100%|██████████| 12/12 [00:05<00:00,  2.23it/s]\n"
     ]
    },
    {
     "name": "stdout",
     "output_type": "stream",
     "text": [
      "Epoch: 18 \tTraining Loss: 0.924469\tValid Loss: 2.275704\n"
     ]
    },
    {
     "name": "stderr",
     "output_type": "stream",
     "text": [
      "Training: 100%|██████████| 47/47 [00:06<00:00,  7.33it/s]\n",
      "Validating: 100%|██████████| 12/12 [00:05<00:00,  2.07it/s]\n"
     ]
    },
    {
     "name": "stdout",
     "output_type": "stream",
     "text": [
      "Epoch: 19 \tTraining Loss: 0.890045\tValid Loss: 2.141075\n"
     ]
    },
    {
     "name": "stderr",
     "output_type": "stream",
     "text": [
      "Training: 100%|██████████| 47/47 [00:06<00:00,  7.28it/s]\n",
      "Validating: 100%|██████████| 12/12 [00:06<00:00,  1.95it/s]"
     ]
    },
    {
     "name": "stdout",
     "output_type": "stream",
     "text": [
      "Epoch: 20 \tTraining Loss: 0.847154\tValid Loss: 2.098960\n"
     ]
    },
    {
     "name": "stderr",
     "output_type": "stream",
     "text": [
      "\n"
     ]
    }
   ],
   "source": [
    "from tqdm import tqdm\n",
    "\n",
    "n_epochs = 20\n",
    "\n",
    "for epoch in range(1, n_epochs + 1):\n",
    "    train_loss = 0.0\n",
    "    model.train()\n",
    "    for data in tqdm(desc=\"Training\", total=len(train_loader), iterable=train_loader):\n",
    "        images, labels = data\n",
    "\n",
    "        optimizer.zero_grad()\n",
    "        outputs = model(images)\n",
    "        perfect_images = labels_to_perfect_images(labels.flatten().numpy())\n",
    "        flatOut = outputs.flatten()\n",
    "        target = torch.nn.utils.rnn.pad_sequence(perfect_images).reshape(flatOut.shape)\n",
    "        \n",
    "        loss = criterion(flatOut, target)\n",
    "        loss.backward()\n",
    "        optimizer.step()\n",
    "        train_loss += loss.item() * images.size(0)\n",
    "    \n",
    "\n",
    "    val_loss = 0\n",
    "    model.eval()\n",
    "    with torch.no_grad():\n",
    "        for data in tqdm(desc=\"Validating\", total=len(val_loader), iterable=val_loader):\n",
    "            images, labels = data\n",
    "\n",
    "            outputs = model(images)\n",
    "            flatOut = outputs.flatten()\n",
    "            perfect_images = labels_to_perfect_images(labels.flatten().numpy())\n",
    "            loss = criterion(flatOut, torch.nn.utils.rnn.pad_sequence(perfect_images).reshape(flatOut.shape))\n",
    "            \n",
    "            val_loss += loss.item() * images.size(0)\n",
    "    \n",
    "    train_loss /= len(train_loader)\n",
    "    val_loss /= len(val_loader)\n",
    "    print(\"Epoch: {} \\tTraining Loss: {:.6f}\\tValid Loss: {:.6f}\".format(epoch, train_loss, val_loss))"
   ]
  },
  {
   "cell_type": "code",
   "execution_count": 44,
   "metadata": {},
   "outputs": [
    {
     "data": {
      "image/png": "[encoded data removed]",
      "text/plain": [
       "<Figure size 1000x200 with 20 Axes>"
      ]
     },
     "metadata": {},
     "output_type": "display_data"
    }
   ],
   "source": [
    "import matplotlib.pyplot as plt\n",
    "\n",
    "test_loader = torch.utils.data.DataLoader(dataset=test_dataset, shuffle=False, batch_size=10, num_workers=num_workers)\n",
    "\n",
    "dataiter = iter(test_loader)\n",
    "images, _ = next(dataiter)\n",
    "\n",
    "model.eval()\n",
    "with torch.no_grad():\n",
    "    model_result = model(images)\n",
    "    fig, subs = plt.subplots(2, 10, figsize=(10, 2))\n",
    "    for img, sub in zip(images, subs[0].flatten()):\n",
    "        sub.imshow(img[0, ...], cmap='gray')\n",
    "        sub.axis(\"off\")\n",
    "    for rec, sub in zip(model_result, subs[1].flatten()):\n",
    "        sub.imshow(rec[0, ...], cmap='gray')\n",
    "        sub.axis(\"off\")\n",
    "    fig.suptitle(\"Compare original and reconstructed images\")\n",
    "\n",
    "    subs[0][0].set_ylabel(\"Input\")\n",
    "    subs[0][0].axis(\"on\")\n",
    "    subs[0][0].set_xticks([])\n",
    "    subs[0][0].set_yticks([])\n",
    "    \n",
    "    subs[1][0].axis(\"on\")\n",
    "    subs[1][0].set_xticks([])\n",
    "    subs[1][0].set_yticks([])\n",
    "    subs[1][0].set_ylabel(\"Reconst\")\n",
    "\n",
    "    plt.show()"
   ]
  }
 ],
 "metadata": {
  "kernelspec": {
   "display_name": "base",
   "language": "python",
   "name": "python3"
  },
  "language_info": {
   "codemirror_mode": {
    "name": "ipython",
    "version": 3
   },
   "file_extension": ".py",
   "mimetype": "text/x-python",
   "name": "python",
   "nbconvert_exporter": "python",
   "pygments_lexer": "ipython3",
   "version": "3.10.11"
  },
  "orig_nbformat": 4
 },
 "nbformat": 4,
 "nbformat_minor": 2
}
